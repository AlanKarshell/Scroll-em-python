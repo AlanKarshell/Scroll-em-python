{
 "cells": [
  {
   "cell_type": "code",
   "execution_count": 1,
   "id": "41f5d5d7",
   "metadata": {},
   "outputs": [],
   "source": [
    "from selenium import webdriver\n",
    "from webdriver_manager.chrome import ChromeDriverManager\n",
    "from selenium.webdriver.chrome.service import Service\n",
    "from selenium.webdriver.chrome.options import Options\n",
    "import time"
   ]
  },
  {
   "cell_type": "code",
   "execution_count": 5,
   "id": "5bb58465",
   "metadata": {},
   "outputs": [],
   "source": [
    "servico = Service(ChromeDriverManager().install())\n",
    "\n",
    "navegador = webdriver.Chrome(service = servico)"
   ]
  },
  {
   "cell_type": "code",
   "execution_count": 6,
   "id": "76a7836d",
   "metadata": {},
   "outputs": [],
   "source": [
    "navegador.get('https://www.amazon.com.br/gp/bestsellers/books/ref=zg_bs_pg_1?ie=UTF8&pg=1')\n",
    "navegador.execute_script(\"window.scrollTo(0,document.body.scrollHeight)\")\n",
    "time.sleep(10)\n",
    "last_height = navegador.execute_script('return document.body.scrollHeight')\n",
    "for contador in range(10):\n",
    "  navegador.execute_script(\"window.scrollTo(0,document.body.scrollHeight)\")\n",
    "  time.sleep(10)\n",
    "  new_height = navegador.execute_script('return document.body.scrollHeight')\n",
    "  if new_height == last_height:\n",
    "    break\n",
    "  last_height = new_height\n",
    "navegador.close()"
   ]
  },
  {
   "cell_type": "code",
   "execution_count": null,
   "id": "930b44f9",
   "metadata": {},
   "outputs": [],
   "source": []
  }
 ],
 "metadata": {
  "kernelspec": {
   "display_name": "Python 3 (ipykernel)",
   "language": "python",
   "name": "python3"
  },
  "language_info": {
   "codemirror_mode": {
    "name": "ipython",
    "version": 3
   },
   "file_extension": ".py",
   "mimetype": "text/x-python",
   "name": "python",
   "nbconvert_exporter": "python",
   "pygments_lexer": "ipython3",
   "version": "3.9.12"
  }
 },
 "nbformat": 4,
 "nbformat_minor": 5
}
